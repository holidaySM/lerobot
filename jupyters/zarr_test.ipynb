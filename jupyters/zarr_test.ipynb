{
 "cells": [
  {
   "cell_type": "code",
   "execution_count": 1,
   "id": "259f4b81-7ddc-42a8-a1b6-1c91b4477792",
   "metadata": {},
   "outputs": [],
   "source": [
    "import sys\n",
    "import os\n",
    "sys.path.append('../')"
   ]
  },
  {
   "cell_type": "code",
   "execution_count": 13,
   "id": "d9709116-393b-4302-a062-aa3c1ad3d30b",
   "metadata": {},
   "outputs": [],
   "source": [
    "import zarr\n",
    "import numpy as np\n",
    "import torch\n",
    "import copy\n",
    "import numcodecs"
   ]
  },
  {
   "cell_type": "code",
   "execution_count": 6,
   "id": "d331927d-6cfc-4cad-8a09-912bce9a826a",
   "metadata": {},
   "outputs": [],
   "source": [
    "ep_dict = {\n",
    "    'observation.image': [\n",
    "        {'path': 'videos/observation.image_episode_000000.mp4', 'timestamp': 0.0},\n",
    "        {'path': 'videos/observation.image_episode_000000.mp4', 'timestamp': 0.1}],\n",
    "     'observation.state': torch.tensor([[152.0000, 398.0000], [157.1967, 399.2942]]),\n",
    "     'action': torch.tensor([[169.5758, 402.3773], [190.2249, 404.4283]]),\n",
    "     'episode_index': [0, 0],\n",
    "     'frame_index': [0, 1],\n",
    "     'timestamp': [0.0, 0.1],\n",
    "     'next.reward': [0., 1.],\n",
    "     'next.done': [False, True],\n",
    "     'next.success': [False, True]\n",
    "}"
   ]
  },
  {
   "cell_type": "code",
   "execution_count": 4,
   "id": "3adb9854-43d5-442a-9b49-238ad5e0d61c",
   "metadata": {},
   "outputs": [],
   "source": [
    "output_path = \"outputs/eval/dataset_test/zarr_test\"\n",
    "\n",
    "root = zarr.open(output_path, mode='a')"
   ]
  },
  {
   "cell_type": "code",
   "execution_count": 14,
   "id": "564d6ae9-a023-4161-86fa-8a5a21c7d78f",
   "metadata": {},
   "outputs": [],
   "source": [
    "def append_episode_to_zarr(ep_dict, zarr_group):\n",
    "    for key, value in ep_dict.items():\n",
    "        # 첫 번째 에피소드인 경우 해당 key로 데이터셋 생성\n",
    "        if key not in zarr_group:\n",
    "            data_shape = (0, *np.array(value).shape[1:])\n",
    "            \n",
    "            # object_codec 추가: 문자열 데이터를 저장하기 위해 JSON을 사용\n",
    "            object_codec = numcodecs.JSON() if isinstance(value[0], dict) or isinstance(value[0], str) else None\n",
    "            zarr_group.create_dataset(\n",
    "                key,\n",
    "                shape=data_shape,\n",
    "                chunks=(1, *data_shape[1:]),\n",
    "                dtype=np.array(value).dtype,\n",
    "                maxshape=(None, *data_shape[1:]),\n",
    "                object_codec=object_codec\n",
    "            )\n",
    "        \n",
    "        # 데이터셋에 에피소드 데이터를 추가\n",
    "        zarr_group[key].append(value)"
   ]
  },
  {
   "cell_type": "code",
   "execution_count": 15,
   "id": "6925f021-9153-4ab6-9cf2-9aba7adea333",
   "metadata": {},
   "outputs": [
    {
     "name": "stderr",
     "output_type": "stream",
     "text": [
      "/home/sm/anaconda3/envs/lerobot/lib/python3.10/site-packages/zarr/creation.py:190: UserWarning: ignoring keyword argument 'maxshape'\n",
      "  compressor, fill_value = _kwargs_compat(compressor, fill_value, kwargs)\n"
     ]
    }
   ],
   "source": [
    "for i in range(6):\n",
    "    new_ep_dict = copy.deepcopy(ep_dict)\n",
    "    new_ep_dict['episode_index'] = [i] * 2\n",
    "\n",
    "    append_episode_to_zarr(new_ep_dict, root)"
   ]
  },
  {
   "cell_type": "code",
   "execution_count": 16,
   "id": "32d9e467-5b05-4912-8e21-5ad223d00698",
   "metadata": {},
   "outputs": [],
   "source": [
    "zarr_data = zarr.open(output_path, mode='r')"
   ]
  },
  {
   "cell_type": "code",
   "execution_count": 18,
   "id": "2c646dc7-a7a5-4c81-9049-2a930eed4a8e",
   "metadata": {},
   "outputs": [
    {
     "data": {
      "text/plain": [
       "[{'path': 'videos/observation.image_episode_000000.mp4', 'timestamp': 0.0},\n",
       " {'path': 'videos/observation.image_episode_000000.mp4', 'timestamp': 0.1},\n",
       " {'path': 'videos/observation.image_episode_000000.mp4', 'timestamp': 0.0},\n",
       " {'path': 'videos/observation.image_episode_000000.mp4', 'timestamp': 0.1},\n",
       " {'path': 'videos/observation.image_episode_000000.mp4', 'timestamp': 0.0},\n",
       " {'path': 'videos/observation.image_episode_000000.mp4', 'timestamp': 0.1},\n",
       " {'path': 'videos/observation.image_episode_000000.mp4', 'timestamp': 0.0},\n",
       " {'path': 'videos/observation.image_episode_000000.mp4', 'timestamp': 0.1},\n",
       " {'path': 'videos/observation.image_episode_000000.mp4', 'timestamp': 0.0},\n",
       " {'path': 'videos/observation.image_episode_000000.mp4', 'timestamp': 0.1},\n",
       " {'path': 'videos/observation.image_episode_000000.mp4', 'timestamp': 0.0},\n",
       " {'path': 'videos/observation.image_episode_000000.mp4', 'timestamp': 0.1}]"
      ]
     },
     "execution_count": 18,
     "metadata": {},
     "output_type": "execute_result"
    }
   ],
   "source": [
    "list(zarr_data['observation.image'])"
   ]
  },
  {
   "cell_type": "code",
   "execution_count": null,
   "id": "fc86a7d3-5a11-4f01-a54f-1b08c806781b",
   "metadata": {},
   "outputs": [],
   "source": []
  }
 ],
 "metadata": {
  "kernelspec": {
   "display_name": "Python 3 (ipykernel)",
   "language": "python",
   "name": "python3"
  },
  "language_info": {
   "codemirror_mode": {
    "name": "ipython",
    "version": 3
   },
   "file_extension": ".py",
   "mimetype": "text/x-python",
   "name": "python",
   "nbconvert_exporter": "python",
   "pygments_lexer": "ipython3",
   "version": "3.10.14"
  }
 },
 "nbformat": 4,
 "nbformat_minor": 5
}
