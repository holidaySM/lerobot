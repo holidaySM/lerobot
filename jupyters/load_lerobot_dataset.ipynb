{
 "cells": [
  {
   "cell_type": "code",
   "execution_count": 1,
   "id": "d04f27e0-bb17-4c9e-9caa-e1af5e4f964e",
   "metadata": {},
   "outputs": [],
   "source": [
    "import sys\n",
    "import os\n",
    "sys.path.append('../')"
   ]
  },
  {
   "cell_type": "code",
   "execution_count": 2,
   "id": "5d9e8902-a198-483b-a7ca-848c427cbb88",
   "metadata": {},
   "outputs": [
    {
     "name": "stderr",
     "output_type": "stream",
     "text": [
      "/home/sm/anaconda3/envs/lerobot/lib/python3.10/site-packages/tqdm/auto.py:21: TqdmWarning: IProgress not found. Please update jupyter and ipywidgets. See https://ipywidgets.readthedocs.io/en/stable/user_install.html\n",
      "  from .autonotebook import tqdm as notebook_tqdm\n"
     ]
    }
   ],
   "source": [
    "from pathlib import Path\n",
    "from pprint import pprint\n",
    "\n",
    "import imageio\n",
    "import torch\n",
    "\n",
    "import lerobot\n",
    "from lerobot.common.datasets.lerobot_dataset import LeRobotDataset"
   ]
  },
  {
   "cell_type": "code",
   "execution_count": 5,
   "id": "78f113c5-a110-4cb1-a13c-1ec19db73aa2",
   "metadata": {},
   "outputs": [
    {
     "name": "stdout",
     "output_type": "stream",
     "text": [
      "List of available datasets:\n",
      "['lerobot/aloha_sim_insertion_human',\n",
      " 'lerobot/aloha_sim_insertion_scripted',\n",
      " 'lerobot/aloha_sim_transfer_cube_human',\n",
      " 'lerobot/aloha_sim_transfer_cube_scripted',\n",
      " 'lerobot/aloha_sim_insertion_human_image',\n",
      " 'lerobot/aloha_sim_insertion_scripted_image',\n",
      " 'lerobot/aloha_sim_transfer_cube_human_image',\n",
      " 'lerobot/aloha_sim_transfer_cube_scripted_image',\n",
      " 'lerobot/pusht',\n",
      " 'lerobot/pusht_image',\n",
      " 'lerobot/xarm_lift_medium',\n",
      " 'lerobot/xarm_lift_medium_replay',\n",
      " 'lerobot/xarm_push_medium',\n",
      " 'lerobot/xarm_push_medium_replay',\n",
      " 'lerobot/xarm_lift_medium_image',\n",
      " 'lerobot/xarm_lift_medium_replay_image',\n",
      " 'lerobot/xarm_push_medium_image',\n",
      " 'lerobot/xarm_push_medium_replay_image',\n",
      " 'lerobot/aloha_static_battery',\n",
      " 'lerobot/aloha_static_candy',\n",
      " 'lerobot/aloha_static_coffee',\n",
      " 'lerobot/aloha_static_coffee_new',\n",
      " 'lerobot/aloha_static_cups_open',\n",
      " 'lerobot/aloha_static_fork_pick_up',\n",
      " 'lerobot/aloha_static_pingpong_test',\n",
      " 'lerobot/aloha_static_pro_pencil',\n",
      " 'lerobot/aloha_static_screw_driver',\n",
      " 'lerobot/aloha_static_tape',\n",
      " 'lerobot/aloha_static_thread_velcro',\n",
      " 'lerobot/aloha_static_towel',\n",
      " 'lerobot/aloha_static_vinh_cup',\n",
      " 'lerobot/aloha_static_vinh_cup_left',\n",
      " 'lerobot/aloha_static_ziploc_slide',\n",
      " 'lerobot/aloha_mobile_cabinet',\n",
      " 'lerobot/aloha_mobile_chair',\n",
      " 'lerobot/aloha_mobile_elevator',\n",
      " 'lerobot/aloha_mobile_shrimp',\n",
      " 'lerobot/aloha_mobile_wash_pan',\n",
      " 'lerobot/aloha_mobile_wipe_wine',\n",
      " 'lerobot/aloha_static_battery',\n",
      " 'lerobot/aloha_static_candy',\n",
      " 'lerobot/aloha_static_coffee',\n",
      " 'lerobot/aloha_static_coffee_new',\n",
      " 'lerobot/aloha_static_cups_open',\n",
      " 'lerobot/aloha_static_fork_pick_up',\n",
      " 'lerobot/aloha_static_pingpong_test',\n",
      " 'lerobot/aloha_static_pro_pencil',\n",
      " 'lerobot/aloha_static_screw_driver',\n",
      " 'lerobot/aloha_static_tape',\n",
      " 'lerobot/aloha_static_thread_velcro',\n",
      " 'lerobot/aloha_static_towel',\n",
      " 'lerobot/aloha_static_vinh_cup',\n",
      " 'lerobot/aloha_static_vinh_cup_left',\n",
      " 'lerobot/aloha_static_ziploc_slide',\n",
      " 'lerobot/umi_cup_in_the_wild',\n",
      " 'lerobot/unitreeh1_fold_clothes',\n",
      " 'lerobot/unitreeh1_rearrange_objects',\n",
      " 'lerobot/unitreeh1_two_robot_greeting',\n",
      " 'lerobot/unitreeh1_warehouse',\n",
      " 'lerobot/nyu_rot_dataset',\n",
      " 'lerobot/utokyo_saytap',\n",
      " 'lerobot/imperialcollege_sawyer_wrist_cam',\n",
      " 'lerobot/utokyo_xarm_bimanual',\n",
      " 'lerobot/tokyo_u_lsmo',\n",
      " 'lerobot/utokyo_pr2_opening_fridge',\n",
      " 'lerobot/cmu_franka_exploration_dataset',\n",
      " 'lerobot/cmu_stretch',\n",
      " 'lerobot/asu_table_top',\n",
      " 'lerobot/utokyo_pr2_tabletop_manipulation',\n",
      " 'lerobot/utokyo_xarm_pick_and_place',\n",
      " 'lerobot/ucsd_kitchen_dataset',\n",
      " 'lerobot/austin_buds_dataset',\n",
      " 'lerobot/dlr_sara_grid_clamp',\n",
      " 'lerobot/conq_hose_manipulation',\n",
      " 'lerobot/columbia_cairlab_pusht_real',\n",
      " 'lerobot/dlr_sara_pour',\n",
      " 'lerobot/dlr_edan_shared_control',\n",
      " 'lerobot/ucsd_pick_and_place_dataset',\n",
      " 'lerobot/berkeley_cable_routing',\n",
      " 'lerobot/nyu_franka_play_dataset',\n",
      " 'lerobot/austin_sirius_dataset',\n",
      " 'lerobot/cmu_play_fusion',\n",
      " 'lerobot/berkeley_gnm_sac_son',\n",
      " 'lerobot/nyu_door_opening_surprising_effectiveness',\n",
      " 'lerobot/berkeley_fanuc_manipulation',\n",
      " 'lerobot/jaco_play',\n",
      " 'lerobot/viola',\n",
      " 'lerobot/kaist_nonprehensile',\n",
      " 'lerobot/berkeley_mvp',\n",
      " 'lerobot/uiuc_d3field',\n",
      " 'lerobot/berkeley_gnm_recon',\n",
      " 'lerobot/austin_sailor_dataset',\n",
      " 'lerobot/utaustin_mutex',\n",
      " 'lerobot/roboturk',\n",
      " 'lerobot/stanford_hydra_dataset',\n",
      " 'lerobot/berkeley_autolab_ur5',\n",
      " 'lerobot/stanford_robocook',\n",
      " 'lerobot/toto',\n",
      " 'lerobot/fmb',\n",
      " 'lerobot/droid_100',\n",
      " 'lerobot/berkeley_rpt',\n",
      " 'lerobot/stanford_kuka_multimodal_dataset',\n",
      " 'lerobot/iamlab_cmu_pickup_insert',\n",
      " 'lerobot/taco_play',\n",
      " 'lerobot/berkeley_gnm_cory_hall',\n",
      " 'lerobot/usc_cloth_sim']\n"
     ]
    }
   ],
   "source": [
    "print(\"List of available datasets:\")\n",
    "pprint(lerobot.available_datasets)"
   ]
  },
  {
   "cell_type": "code",
   "execution_count": 6,
   "id": "2412550b-4f17-4815-94b7-5ec1064425d6",
   "metadata": {},
   "outputs": [
    {
     "name": "stderr",
     "output_type": "stream",
     "text": [
      "Fetching 806 files: 100%|█████████████████████████████████████████████████████████████████████████████████████████████████████████████████████████████████████████████████████████████████████████████████████████████████████████████████████████████████████████████████████| 806/806 [00:00<00:00, 30911.25it/s]\n"
     ]
    }
   ],
   "source": [
    "repo_id = 'lerobot/xarm_lift_medium'\n",
    "dataset = LeRobotDataset(repo_id)"
   ]
  },
  {
   "cell_type": "code",
   "execution_count": 7,
   "id": "705d08a5-f77f-4151-867e-6f6030c7ff50",
   "metadata": {},
   "outputs": [
    {
     "name": "stdout",
     "output_type": "stream",
     "text": [
      "LeRobotDataset(\n",
      "  Repository ID: 'lerobot/xarm_lift_medium',\n",
      "  Split: 'train',\n",
      "  Number of Samples: 20000,\n",
      "  Number of Episodes: 800,\n",
      "  Type: video (.mp4),\n",
      "  Recorded Frames per Second: 15,\n",
      "  Camera Keys: ['observation.image'],\n",
      "  Video Frame Keys: ['observation.image'],\n",
      "  Transformations: None,\n",
      "  Codebase Version: v1.6,\n",
      ")\n",
      "Dataset({\n",
      "    features: ['observation.image', 'observation.state', 'action', 'episode_index', 'frame_index', 'timestamp', 'next.reward', 'next.done', 'index'],\n",
      "    num_rows: 20000\n",
      "})\n"
     ]
    }
   ],
   "source": [
    "print(dataset)\n",
    "print(dataset.hf_dataset)"
   ]
  },
  {
   "cell_type": "code",
   "execution_count": 8,
   "id": "f6a139eb-b037-46fb-a625-4fe97292401f",
   "metadata": {},
   "outputs": [
    {
     "name": "stdout",
     "output_type": "stream",
     "text": [
      "\n",
      "average number of frames per episode: 25.000\n",
      "frames per second used during data collection: dataset.fps=15\n",
      "keys to access images from cameras: dataset.camera_keys=['observation.image']\n",
      "\n"
     ]
    }
   ],
   "source": [
    "print(f\"\\naverage number of frames per episode: {dataset.num_samples / dataset.num_episodes:.3f}\")\n",
    "print(f\"frames per second used during data collection: {dataset.fps=}\")\n",
    "print(f\"keys to access images from cameras: {dataset.camera_keys=}\\n\")"
   ]
  },
  {
   "cell_type": "code",
   "execution_count": 10,
   "id": "deff9574-7a4f-4c6f-85ee-27b1961b9d71",
   "metadata": {},
   "outputs": [
    {
     "name": "stdout",
     "output_type": "stream",
     "text": [
      "episode 0 start from index 0 to index 25\n"
     ]
    }
   ],
   "source": [
    "episode_index = 0\n",
    "from_idx = dataset.episode_data_index[\"from\"][episode_index].item()\n",
    "to_idx = dataset.episode_data_index[\"to\"][episode_index].item()\n",
    "\n",
    "print(f\"episode {episode_index} start from index {from_idx} to index {to_idx}\")"
   ]
  },
  {
   "cell_type": "code",
   "execution_count": 12,
   "id": "c0acd415-9963-4a20-9e0d-0935a20475ab",
   "metadata": {},
   "outputs": [],
   "source": [
    "frames = [dataset[idx][\"observation.image\"] for idx in range(from_idx, to_idx)]\n",
    "\n",
    "# Video frames are now float32 in range [0,1] channel first (c,h,w) to follow pytorch convention. To visualize\n",
    "# them, we convert to uint8 in range [0,255]\n",
    "frames = [(frame * 255).type(torch.uint8) for frame in frames]\n",
    "# and to channel last (h,w,c).\n",
    "frames = [frame.permute((1, 2, 0)).numpy() for frame in frames]"
   ]
  },
  {
   "cell_type": "code",
   "execution_count": 17,
   "id": "aa064dbd-e520-4159-9881-6c5991d913a5",
   "metadata": {},
   "outputs": [
    {
     "name": "stderr",
     "output_type": "stream",
     "text": [
      "IMAGEIO FFMPEG_WRITER WARNING: input image is not divisible by macro_block_size=16, resizing from (84, 84) to (96, 96) to ensure video compatibility with most codecs and players. To prevent resizing, make your input image divisible by the macro_block_size or set the macro_block_size to 1 (risking incompatibility).\n",
      "[swscaler @ 0x5dc2bc0] Warning: data is not aligned! This can lead to a speed loss\n"
     ]
    }
   ],
   "source": [
    "# Finally, we save the frames to a mp4 video for visualization.\n",
    "Path(\"outputs/examples/1_load_lerobot_dataset\").mkdir(parents=True, exist_ok=True)\n",
    "video_path = f\"outputs/examples/1_load_lerobot_dataset/episode_{episode_index}.mp4\"\n",
    "imageio.mimsave(video_path, frames, fps=dataset.fps)"
   ]
  },
  {
   "cell_type": "code",
   "execution_count": 18,
   "id": "79fdc83d-ce4c-4dc5-a9a4-593ea5538de5",
   "metadata": {
    "scrolled": true
   },
   "outputs": [
    {
     "data": {
      "text/html": [
       "<video controls  width=\"640\"  height=\"360\">\n",
       " <source src=\"data:video/mp4;base64,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\" type=\"video/mp4\">\n",
       " Your browser does not support the video tag.\n",
       " </video>"
      ],
      "text/plain": [
       "<IPython.core.display.Video object>"
      ]
     },
     "execution_count": 18,
     "metadata": {},
     "output_type": "execute_result"
    }
   ],
   "source": [
    "from IPython.display import Video\n",
    "\n",
    "# 비디오 표시\n",
    "Video(video_path, embed=True, width=640, height=360)"
   ]
  },
  {
   "cell_type": "markdown",
   "id": "e5b4835a-9ab9-4d09-b0eb-d50181f8f5c2",
   "metadata": {},
   "source": [
    "# Example Data Processing\n",
    "\n",
    "For many machine learning applications we need to load the history of past observations or trajectories of\n",
    "future actions. Our datasets can load previous and future frames for each key/modality, using timestamps\n",
    "differences with the current loaded frame. For instance:"
   ]
  },
  {
   "cell_type": "code",
   "execution_count": 14,
   "id": "99f3e500-da8d-4f9a-8e61-8f292f73775c",
   "metadata": {},
   "outputs": [],
   "source": [
    "delta_timestamps = {\n",
    "    # loads 4 images: 1 second before current frame, 500 ms before, 200 ms before, and current frame\n",
    "    \"observation.image\": [-1, -0.5, -0.20, 0],\n",
    "    # loads 8 state vectors: 1.5 seconds before, 1 second before, ... 20 ms, 10 ms, and current frame\n",
    "    \"observation.state\": [-1.5, -1, -0.5, -0.20, -0.10, -0.02, -0.01, 0],\n",
    "    # loads 64 action vectors: current frame, 1 frame in the future, 2 frames, ... 63 frames in the future\n",
    "    \"action\": [t / dataset.fps for t in range(64)],\n",
    "}"
   ]
  },
  {
   "cell_type": "code",
   "execution_count": 15,
   "id": "cc660388-3b29-4e0f-964a-069ae5f48764",
   "metadata": {},
   "outputs": [
    {
     "name": "stderr",
     "output_type": "stream",
     "text": [
      "Fetching 806 files: 100%|█████████████████████████████████████████████████████████████████████████████████████████████████████████████████████████████████████████████████████████████████████████████████████████████████████████████████████████████████████████████████████| 806/806 [00:00<00:00, 22509.33it/s]"
     ]
    },
    {
     "name": "stdout",
     "output_type": "stream",
     "text": [
      "\n",
      "dataset[0]['observation.image'].shape=torch.Size([4, 3, 84, 84])\n",
      "dataset[0]['observation.state'].shape=torch.Size([8, 4])\n",
      "dataset[0]['action'].shape=torch.Size([64, 4])\n",
      "\n"
     ]
    },
    {
     "name": "stderr",
     "output_type": "stream",
     "text": [
      "\n"
     ]
    }
   ],
   "source": [
    "dataset = LeRobotDataset(repo_id, delta_timestamps=delta_timestamps)\n",
    "print(f\"\\n{dataset[0]['observation.image'].shape=}\")  # (4,c,h,w)\n",
    "print(f\"{dataset[0]['observation.state'].shape=}\")  # (8,c)\n",
    "print(f\"{dataset[0]['action'].shape=}\\n\")  # (64,c)"
   ]
  },
  {
   "cell_type": "code",
   "execution_count": 16,
   "id": "8e845527-e92d-437b-8d9f-676cbae708f4",
   "metadata": {},
   "outputs": [
    {
     "name": "stdout",
     "output_type": "stream",
     "text": [
      "batch['observation.image'].shape=torch.Size([32, 4, 3, 84, 84])\n",
      "batch['observation.state'].shape=torch.Size([32, 8, 4])\n",
      "batch['action'].shape=torch.Size([32, 64, 4])\n"
     ]
    }
   ],
   "source": [
    "# Finally, our datasets are fully compatible with PyTorch dataloaders and samplers because they are just\n",
    "# PyTorch datasets.\n",
    "dataloader = torch.utils.data.DataLoader(\n",
    "    dataset,\n",
    "    num_workers=0,\n",
    "    batch_size=32,\n",
    "    shuffle=True,\n",
    ")\n",
    "for batch in dataloader:\n",
    "    print(f\"{batch['observation.image'].shape=}\")  # (32,4,c,h,w)\n",
    "    print(f\"{batch['observation.state'].shape=}\")  # (32,8,c)\n",
    "    print(f\"{batch['action'].shape=}\")  # (32,64,c)\n",
    "    break"
   ]
  },
  {
   "cell_type": "code",
   "execution_count": null,
   "id": "22b4efe0-398c-455f-9e29-3643631bb403",
   "metadata": {},
   "outputs": [],
   "source": []
  }
 ],
 "metadata": {
  "kernelspec": {
   "display_name": "Python 3 (ipykernel)",
   "language": "python",
   "name": "python3"
  },
  "language_info": {
   "codemirror_mode": {
    "name": "ipython",
    "version": 3
   },
   "file_extension": ".py",
   "mimetype": "text/x-python",
   "name": "python",
   "nbconvert_exporter": "python",
   "pygments_lexer": "ipython3",
   "version": "3.10.14"
  }
 },
 "nbformat": 4,
 "nbformat_minor": 5
}
