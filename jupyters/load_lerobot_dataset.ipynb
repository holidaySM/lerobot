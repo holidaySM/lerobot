{
 "cells": [
  {
   "cell_type": "code",
   "execution_count": 1,
   "id": "d04f27e0-bb17-4c9e-9caa-e1af5e4f964e",
   "metadata": {},
   "outputs": [],
   "source": [
    "import sys\n",
    "import os\n",
    "sys.path.append('../')"
   ]
  },
  {
   "cell_type": "code",
   "execution_count": 2,
   "id": "5d9e8902-a198-483b-a7ca-848c427cbb88",
   "metadata": {},
   "outputs": [
    {
     "name": "stderr",
     "output_type": "stream",
     "text": [
      "/home/sm/anaconda3/envs/lerobot/lib/python3.10/site-packages/tqdm/auto.py:21: TqdmWarning: IProgress not found. Please update jupyter and ipywidgets. See https://ipywidgets.readthedocs.io/en/stable/user_install.html\n",
      "  from .autonotebook import tqdm as notebook_tqdm\n"
     ]
    }
   ],
   "source": [
    "from pathlib import Path\n",
    "from pprint import pprint\n",
    "\n",
    "import imageio\n",
    "import torch\n",
    "\n",
    "import lerobot\n",
    "from lerobot.common.datasets.lerobot_dataset import LeRobotDataset"
   ]
  },
  {
   "cell_type": "code",
   "execution_count": 3,
   "id": "78f113c5-a110-4cb1-a13c-1ec19db73aa2",
   "metadata": {},
   "outputs": [
    {
     "name": "stdout",
     "output_type": "stream",
     "text": [
      "List of available datasets:\n",
      "['lerobot/aloha_sim_insertion_human',\n",
      " 'lerobot/aloha_sim_insertion_scripted',\n",
      " 'lerobot/aloha_sim_transfer_cube_human',\n",
      " 'lerobot/aloha_sim_transfer_cube_scripted',\n",
      " 'lerobot/aloha_sim_insertion_human_image',\n",
      " 'lerobot/aloha_sim_insertion_scripted_image',\n",
      " 'lerobot/aloha_sim_transfer_cube_human_image',\n",
      " 'lerobot/aloha_sim_transfer_cube_scripted_image',\n",
      " 'lerobot/pusht',\n",
      " 'lerobot/pusht_image',\n",
      " 'lerobot/xarm_lift_medium',\n",
      " 'lerobot/xarm_lift_medium_replay',\n",
      " 'lerobot/xarm_push_medium',\n",
      " 'lerobot/xarm_push_medium_replay',\n",
      " 'lerobot/xarm_lift_medium_image',\n",
      " 'lerobot/xarm_lift_medium_replay_image',\n",
      " 'lerobot/xarm_push_medium_image',\n",
      " 'lerobot/xarm_push_medium_replay_image',\n",
      " 'lerobot/aloha_static_battery',\n",
      " 'lerobot/aloha_static_candy',\n",
      " 'lerobot/aloha_static_coffee',\n",
      " 'lerobot/aloha_static_coffee_new',\n",
      " 'lerobot/aloha_static_cups_open',\n",
      " 'lerobot/aloha_static_fork_pick_up',\n",
      " 'lerobot/aloha_static_pingpong_test',\n",
      " 'lerobot/aloha_static_pro_pencil',\n",
      " 'lerobot/aloha_static_screw_driver',\n",
      " 'lerobot/aloha_static_tape',\n",
      " 'lerobot/aloha_static_thread_velcro',\n",
      " 'lerobot/aloha_static_towel',\n",
      " 'lerobot/aloha_static_vinh_cup',\n",
      " 'lerobot/aloha_static_vinh_cup_left',\n",
      " 'lerobot/aloha_static_ziploc_slide',\n",
      " 'lerobot/aloha_mobile_cabinet',\n",
      " 'lerobot/aloha_mobile_chair',\n",
      " 'lerobot/aloha_mobile_elevator',\n",
      " 'lerobot/aloha_mobile_shrimp',\n",
      " 'lerobot/aloha_mobile_wash_pan',\n",
      " 'lerobot/aloha_mobile_wipe_wine',\n",
      " 'lerobot/aloha_static_battery',\n",
      " 'lerobot/aloha_static_candy',\n",
      " 'lerobot/aloha_static_coffee',\n",
      " 'lerobot/aloha_static_coffee_new',\n",
      " 'lerobot/aloha_static_cups_open',\n",
      " 'lerobot/aloha_static_fork_pick_up',\n",
      " 'lerobot/aloha_static_pingpong_test',\n",
      " 'lerobot/aloha_static_pro_pencil',\n",
      " 'lerobot/aloha_static_screw_driver',\n",
      " 'lerobot/aloha_static_tape',\n",
      " 'lerobot/aloha_static_thread_velcro',\n",
      " 'lerobot/aloha_static_towel',\n",
      " 'lerobot/aloha_static_vinh_cup',\n",
      " 'lerobot/aloha_static_vinh_cup_left',\n",
      " 'lerobot/aloha_static_ziploc_slide',\n",
      " 'lerobot/umi_cup_in_the_wild',\n",
      " 'lerobot/unitreeh1_fold_clothes',\n",
      " 'lerobot/unitreeh1_rearrange_objects',\n",
      " 'lerobot/unitreeh1_two_robot_greeting',\n",
      " 'lerobot/unitreeh1_warehouse',\n",
      " 'lerobot/nyu_rot_dataset',\n",
      " 'lerobot/utokyo_saytap',\n",
      " 'lerobot/imperialcollege_sawyer_wrist_cam',\n",
      " 'lerobot/utokyo_xarm_bimanual',\n",
      " 'lerobot/tokyo_u_lsmo',\n",
      " 'lerobot/utokyo_pr2_opening_fridge',\n",
      " 'lerobot/cmu_franka_exploration_dataset',\n",
      " 'lerobot/cmu_stretch',\n",
      " 'lerobot/asu_table_top',\n",
      " 'lerobot/utokyo_pr2_tabletop_manipulation',\n",
      " 'lerobot/utokyo_xarm_pick_and_place',\n",
      " 'lerobot/ucsd_kitchen_dataset',\n",
      " 'lerobot/austin_buds_dataset',\n",
      " 'lerobot/dlr_sara_grid_clamp',\n",
      " 'lerobot/conq_hose_manipulation',\n",
      " 'lerobot/columbia_cairlab_pusht_real',\n",
      " 'lerobot/dlr_sara_pour',\n",
      " 'lerobot/dlr_edan_shared_control',\n",
      " 'lerobot/ucsd_pick_and_place_dataset',\n",
      " 'lerobot/berkeley_cable_routing',\n",
      " 'lerobot/nyu_franka_play_dataset',\n",
      " 'lerobot/austin_sirius_dataset',\n",
      " 'lerobot/cmu_play_fusion',\n",
      " 'lerobot/berkeley_gnm_sac_son',\n",
      " 'lerobot/nyu_door_opening_surprising_effectiveness',\n",
      " 'lerobot/berkeley_fanuc_manipulation',\n",
      " 'lerobot/jaco_play',\n",
      " 'lerobot/viola',\n",
      " 'lerobot/kaist_nonprehensile',\n",
      " 'lerobot/berkeley_mvp',\n",
      " 'lerobot/uiuc_d3field',\n",
      " 'lerobot/berkeley_gnm_recon',\n",
      " 'lerobot/austin_sailor_dataset',\n",
      " 'lerobot/utaustin_mutex',\n",
      " 'lerobot/roboturk',\n",
      " 'lerobot/stanford_hydra_dataset',\n",
      " 'lerobot/berkeley_autolab_ur5',\n",
      " 'lerobot/stanford_robocook',\n",
      " 'lerobot/toto',\n",
      " 'lerobot/fmb',\n",
      " 'lerobot/droid_100',\n",
      " 'lerobot/berkeley_rpt',\n",
      " 'lerobot/stanford_kuka_multimodal_dataset',\n",
      " 'lerobot/iamlab_cmu_pickup_insert',\n",
      " 'lerobot/taco_play',\n",
      " 'lerobot/berkeley_gnm_cory_hall',\n",
      " 'lerobot/usc_cloth_sim']\n"
     ]
    }
   ],
   "source": [
    "print(\"List of available datasets:\")\n",
    "pprint(lerobot.available_datasets)"
   ]
  },
  {
   "cell_type": "code",
   "execution_count": 4,
   "id": "2412550b-4f17-4815-94b7-5ec1064425d6",
   "metadata": {},
   "outputs": [
    {
     "name": "stderr",
     "output_type": "stream",
     "text": [
      "Downloading readme: 100%|█████████████████████████████████████████████████████████████████████████████████████████████| 140/140 [00:00<00:00, 733B/s]\n",
      "Downloading data: 100%|█████████████████████████████████████████████████████████████████████████████████████████| 32.0M/32.0M [00:01<00:00, 19.5MB/s]\n",
      "Generating train split: 25650 examples [00:00, 298149.31 examples/s]\n"
     ]
    }
   ],
   "source": [
    "repo_id = 'lerobot/pusht_image'\n",
    "dataset = LeRobotDataset(repo_id)"
   ]
  },
  {
   "cell_type": "code",
   "execution_count": 20,
   "id": "705d08a5-f77f-4151-867e-6f6030c7ff50",
   "metadata": {},
   "outputs": [
    {
     "name": "stdout",
     "output_type": "stream",
     "text": [
      "LeRobotDataset(\n",
      "  Repository ID: 'lerobot/pusht_image',\n",
      "  Split: 'train',\n",
      "  Number of Samples: 25650,\n",
      "  Number of Episodes: 206,\n",
      "  Type: image (.png),\n",
      "  Recorded Frames per Second: 10,\n",
      "  Camera Keys: ['observation.image'],\n",
      "  Video Frame Keys: N/A,\n",
      "  Transformations: None,\n",
      "  Codebase Version: v1.6,\n",
      ")\n",
      "Dataset({\n",
      "    features: ['observation.image', 'observation.state', 'action', 'episode_index', 'frame_index', 'timestamp', 'next.reward', 'next.done', 'next.success', 'index'],\n",
      "    num_rows: 25650\n",
      "})\n",
      "None\n"
     ]
    }
   ],
   "source": [
    "print(dataset)\n",
    "print(dataset.hf_dataset)\n",
    "print(dataset.image_transforms)"
   ]
  },
  {
   "cell_type": "code",
   "execution_count": 6,
   "id": "f6a139eb-b037-46fb-a625-4fe97292401f",
   "metadata": {},
   "outputs": [
    {
     "name": "stdout",
     "output_type": "stream",
     "text": [
      "\n",
      "average number of frames per episode: 124.515\n",
      "frames per second used during data collection: dataset.fps=10\n",
      "keys to access images from cameras: dataset.camera_keys=['observation.image']\n",
      "\n"
     ]
    }
   ],
   "source": [
    "print(f\"\\naverage number of frames per episode: {dataset.num_samples / dataset.num_episodes:.3f}\")\n",
    "print(f\"frames per second used during data collection: {dataset.fps=}\")\n",
    "print(f\"keys to access images from cameras: {dataset.camera_keys=}\\n\")"
   ]
  },
  {
   "cell_type": "code",
   "execution_count": 7,
   "id": "deff9574-7a4f-4c6f-85ee-27b1961b9d71",
   "metadata": {},
   "outputs": [
    {
     "name": "stdout",
     "output_type": "stream",
     "text": [
      "episode 0 start from index 0 to index 161\n"
     ]
    }
   ],
   "source": [
    "episode_index = 0\n",
    "from_idx = dataset.episode_data_index[\"from\"][episode_index].item()\n",
    "to_idx = dataset.episode_data_index[\"to\"][episode_index].item()\n",
    "\n",
    "print(f\"episode {episode_index} start from index {from_idx} to index {to_idx}\")"
   ]
  },
  {
   "cell_type": "code",
   "execution_count": 15,
   "id": "c0acd415-9963-4a20-9e0d-0935a20475ab",
   "metadata": {},
   "outputs": [],
   "source": [
    "frames = [dataset[idx][\"observation.image\"] for idx in range(from_idx, to_idx)]\n",
    "\n",
    "# Video frames are now float32 in range [0,1] channel first (c,h,w) to follow pytorch convention. To visualize\n",
    "# them, we convert to uint8 in range [0,255]\n",
    "frames = [(frame * 255).type(torch.uint8) for frame in frames]\n",
    "# and to channel last (h,w,c).\n",
    "frames = [frame.permute((1, 2, 0)).numpy() for frame in frames]"
   ]
  },
  {
   "cell_type": "code",
   "execution_count": 9,
   "id": "aa064dbd-e520-4159-9881-6c5991d913a5",
   "metadata": {},
   "outputs": [],
   "source": [
    "# Finally, we save the frames to a mp4 video for visualization.\n",
    "Path(\"outputs/examples/1_load_lerobot_dataset\").mkdir(parents=True, exist_ok=True)\n",
    "video_path = f\"outputs/examples/1_load_lerobot_dataset/episode_{episode_index}.mp4\"\n",
    "imageio.mimsave(video_path, frames, fps=dataset.fps)"
   ]
  },
  {
   "cell_type": "code",
   "execution_count": 10,
   "id": "79fdc83d-ce4c-4dc5-a9a4-593ea5538de5",
   "metadata": {
    "collapsed": true,
    "jupyter": {
     "outputs_hidden": true
    },
    "scrolled": true
   },
   "outputs": [
    {
     "data": {
      "text/html": [
       "<video controls  width=\"640\"  height=\"360\">\n",
       " <source src=\"data:video/mp4;base64,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\" type=\"video/mp4\">\n",
       " Your browser does not support the video tag.\n",
       " </video>"
      ],
      "text/plain": [
       "<IPython.core.display.Video object>"
      ]
     },
     "execution_count": 10,
     "metadata": {},
     "output_type": "execute_result"
    }
   ],
   "source": [
    "from IPython.display import Video\n",
    "\n",
    "# 비디오 표시\n",
    "Video(video_path, embed=True, width=640, height=360)"
   ]
  },
  {
   "cell_type": "code",
   "execution_count": 32,
   "id": "09f8116c-7b32-425d-ace7-d11012dc7fac",
   "metadata": {},
   "outputs": [
    {
     "name": "stdout",
     "output_type": "stream",
     "text": [
      "observation.image's type: (<class 'list'>, 25650), observation.image's record type: <class 'torch.Tensor'>, tensor([[[1.0000, 0.9725, 0.9725,  ..., 0.9725, 0.9725, 1.0000],\n",
      "         [0.9725, 0.8706, 0.9137,  ..., 0.9137, 0.8706, 0.9725],\n",
      "         [0.9686, 0.9137, 1.0000,  ..., 1.0000, 0.9137, 0.9686],\n",
      "         ...,\n",
      "         [0.9686, 0.9137, 1.0000,  ..., 1.0000, 0.9137, 0.9686],\n",
      "         [0.9725, 0.8706, 0.9137,  ..., 0.9137, 0.8706, 0.9725],\n",
      "         [1.0000, 0.9725, 0.9725,  ..., 0.9725, 0.9725, 1.0000]],\n",
      "\n",
      "        [[1.0000, 0.9725, 0.9725,  ..., 0.9725, 0.9725, 1.0000],\n",
      "         [0.9725, 0.8706, 0.9137,  ..., 0.9137, 0.8706, 0.9725],\n",
      "         [0.9686, 0.9137, 1.0000,  ..., 1.0000, 0.9137, 0.9686],\n",
      "         ...,\n",
      "         [0.9686, 0.9137, 1.0000,  ..., 1.0000, 0.9137, 0.9686],\n",
      "         [0.9725, 0.8706, 0.9137,  ..., 0.9137, 0.8706, 0.9725],\n",
      "         [1.0000, 0.9725, 0.9725,  ..., 0.9725, 0.9725, 1.0000]],\n",
      "\n",
      "        [[1.0000, 0.9725, 0.9725,  ..., 0.9725, 0.9725, 1.0000],\n",
      "         [0.9725, 0.8706, 0.9137,  ..., 0.9137, 0.8706, 0.9725],\n",
      "         [0.9686, 0.9137, 1.0000,  ..., 1.0000, 0.9137, 0.9686],\n",
      "         ...,\n",
      "         [0.9686, 0.9137, 1.0000,  ..., 1.0000, 0.9137, 0.9686],\n",
      "         [0.9725, 0.8706, 0.9137,  ..., 0.9137, 0.8706, 0.9725],\n",
      "         [1.0000, 0.9725, 0.9725,  ..., 0.9725, 0.9725, 1.0000]]])\n",
      "observation.state's type: (<class 'list'>, 25650), observation.state's record type: <class 'torch.Tensor'>, tensor([225.2524,  89.3125])\n",
      "action's type: (<class 'list'>, 25650), action's record type: <class 'torch.Tensor'>, tensor([229.,  83.])\n",
      "episode_index's type: (<class 'list'>, 25650), episode_index's record type: <class 'torch.Tensor'>, 0\n",
      "frame_index's type: (<class 'list'>, 25650), frame_index's record type: <class 'torch.Tensor'>, 1\n",
      "timestamp's type: (<class 'list'>, 25650), timestamp's record type: <class 'torch.Tensor'>, 0.10000000149011612\n",
      "next.reward's type: (<class 'list'>, 25650), next.reward's record type: <class 'torch.Tensor'>, 0.0\n",
      "next.done's type: (<class 'list'>, 25650), next.done's record type: <class 'torch.Tensor'>, False\n",
      "next.success's type: (<class 'list'>, 25650), next.success's record type: <class 'torch.Tensor'>, False\n",
      "index's type: (<class 'list'>, 25650), index's record type: <class 'torch.Tensor'>, 1\n"
     ]
    }
   ],
   "source": [
    "record = dataset[1]\n",
    "\n",
    "for k, v in record.items():\n",
    "    print(f\"{k}'s type: {type(dataset[k]), len(dataset[k])}, {k}'s record type: {type(v)}, {v}\")"
   ]
  },
  {
   "cell_type": "markdown",
   "id": "e5b4835a-9ab9-4d09-b0eb-d50181f8f5c2",
   "metadata": {},
   "source": [
    "# Example Data Processing\n",
    "\n",
    "For many machine learning applications we need to load the history of past observations or trajectories of\n",
    "future actions. Our datasets can load previous and future frames for each key/modality, using timestamps\n",
    "differences with the current loaded frame. For instance:"
   ]
  },
  {
   "cell_type": "code",
   "execution_count": 14,
   "id": "99f3e500-da8d-4f9a-8e61-8f292f73775c",
   "metadata": {},
   "outputs": [],
   "source": [
    "delta_timestamps = {\n",
    "    # loads 4 images: 1 second before current frame, 500 ms before, 200 ms before, and current frame\n",
    "    \"observation.image\": [-1, -0.5, -0.20, 0],\n",
    "    # loads 8 state vectors: 1.5 seconds before, 1 second before, ... 20 ms, 10 ms, and current frame\n",
    "    \"observation.state\": [-1.5, -1, -0.5, -0.20, -0.10, -0.02, -0.01, 0],\n",
    "    # loads 64 action vectors: current frame, 1 frame in the future, 2 frames, ... 63 frames in the future\n",
    "    \"action\": [t / dataset.fps for t in range(64)],\n",
    "}"
   ]
  },
  {
   "cell_type": "code",
   "execution_count": 15,
   "id": "cc660388-3b29-4e0f-964a-069ae5f48764",
   "metadata": {},
   "outputs": [
    {
     "name": "stderr",
     "output_type": "stream",
     "text": [
      "Fetching 806 files: 100%|█████████████████████████████████████████████████████████████████████████████████████████████████████████████████████████████████████████████████████████████████████████████████████████████████████████████████████████████████████████████████████| 806/806 [00:00<00:00, 22509.33it/s]"
     ]
    },
    {
     "name": "stdout",
     "output_type": "stream",
     "text": [
      "\n",
      "dataset[0]['observation.image'].shape=torch.Size([4, 3, 84, 84])\n",
      "dataset[0]['observation.state'].shape=torch.Size([8, 4])\n",
      "dataset[0]['action'].shape=torch.Size([64, 4])\n",
      "\n"
     ]
    },
    {
     "name": "stderr",
     "output_type": "stream",
     "text": [
      "\n"
     ]
    }
   ],
   "source": [
    "dataset = LeRobotDataset(repo_id, delta_timestamps=delta_timestamps)\n",
    "print(f\"\\n{dataset[0]['observation.image'].shape=}\")  # (4,c,h,w)\n",
    "print(f\"{dataset[0]['observation.state'].shape=}\")  # (8,c)\n",
    "print(f\"{dataset[0]['action'].shape=}\\n\")  # (64,c)"
   ]
  },
  {
   "cell_type": "code",
   "execution_count": 16,
   "id": "8e845527-e92d-437b-8d9f-676cbae708f4",
   "metadata": {},
   "outputs": [
    {
     "name": "stdout",
     "output_type": "stream",
     "text": [
      "batch['observation.image'].shape=torch.Size([32, 4, 3, 84, 84])\n",
      "batch['observation.state'].shape=torch.Size([32, 8, 4])\n",
      "batch['action'].shape=torch.Size([32, 64, 4])\n"
     ]
    }
   ],
   "source": [
    "# Finally, our datasets are fully compatible with PyTorch dataloaders and samplers because they are just\n",
    "# PyTorch datasets.\n",
    "dataloader = torch.utils.data.DataLoader(\n",
    "    dataset,\n",
    "    num_workers=0,\n",
    "    batch_size=32,\n",
    "    shuffle=True,\n",
    ")\n",
    "for batch in dataloader:\n",
    "    print(f\"{batch['observation.image'].shape=}\")  # (32,4,c,h,w)\n",
    "    print(f\"{batch['observation.state'].shape=}\")  # (32,8,c)\n",
    "    print(f\"{batch['action'].shape=}\")  # (32,64,c)\n",
    "    break"
   ]
  },
  {
   "cell_type": "code",
   "execution_count": null,
   "id": "22b4efe0-398c-455f-9e29-3643631bb403",
   "metadata": {},
   "outputs": [],
   "source": []
  }
 ],
 "metadata": {
  "kernelspec": {
   "display_name": "Python 3 (ipykernel)",
   "language": "python",
   "name": "python3"
  },
  "language_info": {
   "codemirror_mode": {
    "name": "ipython",
    "version": 3
   },
   "file_extension": ".py",
   "mimetype": "text/x-python",
   "name": "python",
   "nbconvert_exporter": "python",
   "pygments_lexer": "ipython3",
   "version": "3.10.14"
  }
 },
 "nbformat": 4,
 "nbformat_minor": 5
}
